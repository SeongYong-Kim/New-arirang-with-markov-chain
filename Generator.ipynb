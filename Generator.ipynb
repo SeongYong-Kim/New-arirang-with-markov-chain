{
 "cells": [
  {
   "cell_type": "code",
   "execution_count": 1,
   "metadata": {},
   "outputs": [],
   "source": [
    "import numpy as np\n",
    "\n",
    "class Generator:\n",
    "    def __init__(self, pitch_matrix, duration_matrix):\n",
    "        self.pitch_trans_matrix = self.make_trans_matrix(pitch_matrix)\n",
    "        self.duration_trans_matrix = self.make_trans_matrix(duration_matrix)\n",
    "        \n",
    "        self.new_song = np.array([])\n",
    "        \n",
    "    def make_trans_matrix(self, matrix):\n",
    "        for j in range(len(matrix)):\n",
    "            matrix.iloc[j] = matrix.iloc[j] / matrix.sum(axis=1)[j]\n",
    "        return matrix\n",
    "    \n",
    "    def show_matrix(self):\n",
    "        display(self.pitch_trans_matrix)\n",
    "        display(self.duration_trans_matrix)\n",
    "    \n",
    "  \n",
    "    def make_MarkovSong(self, start_node, start_duration):\n",
    "        self.new_song = np.array([[start_node, start_duration]])\n",
    "        \n",
    "        sum_duration = float(start_duration)\n",
    "        while 1:\n",
    "            current_pitch = self.new_song[-1][0]\n",
    "            current_duration = self.new_song[-1][1]\n",
    "            next_pitch = np.random.choice(list(self.pitch_trans_matrix), \\\n",
    "                                          p=self.pitch_trans_matrix.loc[current_pitch])\n",
    "            next_duration = np.random.choice(list(self.duration_trans_matrix), \\\n",
    "                                             p=self.duration_trans_matrix.loc[current_duration])\n",
    "            if sum_duration + float(next_duration) > 4.5*8:\n",
    "                next_duration = str(sum_duration + float(next_duration) - 4.5*8)\n",
    "                self.new_song = np.concatenate((self.new_song, [[start_node, next_duration]]), axis=0)\n",
    "                break\n",
    "            elif sum_duration + float(next_duration) == 4.5*8:\n",
    "                self.new_song = np.concatenate((self.new_song, [[start_node, next_duration]]), axis=0)\n",
    "                break\n",
    "            else:\n",
    "                sum_duration = sum_duration + float(next_duration)\n",
    "                self.new_song = np.concatenate((self.new_song, [[next_pitch, next_duration]]), axis=0)\n",
    "        "
   ]
  }
 ],
 "metadata": {
  "kernelspec": {
   "display_name": "Python 3",
   "language": "python",
   "name": "python3"
  },
  "language_info": {
   "codemirror_mode": {
    "name": "ipython",
    "version": 3
   },
   "file_extension": ".py",
   "mimetype": "text/x-python",
   "name": "python",
   "nbconvert_exporter": "python",
   "pygments_lexer": "ipython3",
   "version": "3.7.4"
  },
  "toc": {
   "base_numbering": 1,
   "nav_menu": {},
   "number_sections": true,
   "sideBar": true,
   "skip_h1_title": false,
   "title_cell": "Table of Contents",
   "title_sidebar": "Contents",
   "toc_cell": false,
   "toc_position": {},
   "toc_section_display": true,
   "toc_window_display": false
  }
 },
 "nbformat": 4,
 "nbformat_minor": 2
}
